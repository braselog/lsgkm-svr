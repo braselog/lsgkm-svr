{
  "nbformat": 4,
  "nbformat_minor": 0,
  "metadata": {
    "colab": {
      "name": "Demo_Regression_on_Simulated_Data.ipynb",
      "provenance": [],
      "authorship_tag": "ABX9TyM4vEA60OQdgkMtl0YKjLc+",
      "include_colab_link": true
    },
    "kernelspec": {
      "name": "python3",
      "display_name": "Python 3"
    }
  },
  "cells": [
    {
      "cell_type": "markdown",
      "metadata": {
        "id": "view-in-github",
        "colab_type": "text"
      },
      "source": [
        "<a href=\"https://colab.research.google.com/github/kundajelab/rlsgkm/blob/master/examples/Demo_Regression_on_Simulated_Data.ipynb\" target=\"_parent\"><img src=\"https://colab.research.google.com/assets/colab-badge.svg\" alt=\"Open In Colab\"/></a>"
      ]
    },
    {
      "cell_type": "code",
      "metadata": {
        "id": "c0WVZHjK8duO",
        "colab_type": "code",
        "colab": {
          "base_uri": "https://localhost:8080/",
          "height": 261
        },
        "outputId": "724c3e16-7c7b-45c3-931c-ccdf5e2282a0"
      },
      "source": [
        "!rm -rf lsgkm\n",
        "!git clone https://github.com/kundajelab/rlsgkm.git\n",
        "%cd rlsgkm\n",
        "%cd src\n",
        "!make\n",
        "!make install\n",
        "%cd /content"
      ],
      "execution_count": null,
      "outputs": [
        {
          "output_type": "stream",
          "text": [
            "Cloning into 'rlsgkm'...\n",
            "remote: Enumerating objects: 56, done.\u001b[K\n",
            "remote: Counting objects: 100% (56/56), done.\u001b[K\n",
            "remote: Compressing objects: 100% (46/46), done.\u001b[K\n",
            "remote: Total 56 (delta 23), reused 33 (delta 9), pack-reused 0\u001b[K\n",
            "Unpacking objects: 100% (56/56), done.\n",
            "/content/rlsgkm\n",
            "/content/rlsgkm/src\n",
            "g++ -Wall -Wconversion -O3 -fPIC -c libsvm.cpp\n",
            "g++ -Wall -Wconversion -O3 -fPIC -c libsvm_gkm.c\n",
            "g++ -Wall -Wconversion -O3 -fPIC gkmtrain.c libsvm.o libsvm_gkm.o -o gkmtrain -lm -lpthread\n",
            "g++ -Wall -Wconversion -O3 -fPIC gkmpredict.c libsvm.o libsvm_gkm.o -o gkmpredict -lm -lpthread\n",
            "g++ -Wall -Wconversion -O3 -fPIC gkmexplain.c libsvm.o libsvm_gkm.o -o gkmexplain -lm -lpthread\n",
            "cp gkmtrain gkmpredict gkmexplain ../bin\n",
            "/content\n"
          ],
          "name": "stdout"
        }
      ]
    },
    {
      "cell_type": "code",
      "metadata": {
        "id": "7g1z0Mvx8mX8",
        "colab_type": "code",
        "colab": {
          "base_uri": "https://localhost:8080/",
          "height": 722
        },
        "outputId": "4ae005cf-f622-4d14-a3bf-9c9c0d580e1a"
      },
      "source": [
        "#Grab some simulated data from another project\n",
        "\n",
        "!wget https://raw.githubusercontent.com/kundajelab/feature_interactions/8f97332/data/train_neg_labels.txt.gz -O train_labels.txt.gz\n",
        "!wget https://raw.githubusercontent.com/kundajelab/feature_interactions/8f97332/data/train_simulation.simdata.gz -O train_simulation.simdata.gz\n",
        "!wget https://raw.githubusercontent.com/kundajelab/feature_interactions/8f97332/data/test_neg_labels.txt.gz -O test_labels.txt.gz\n",
        "!wget https://raw.githubusercontent.com/kundajelab/feature_interactions/8f97332/data/test_simulation.simdata.gz -O test_simulation.simdata.gz"
      ],
      "execution_count": null,
      "outputs": [
        {
          "output_type": "stream",
          "text": [
            "--2020-08-27 17:29:32--  https://raw.githubusercontent.com/kundajelab/feature_interactions/8f97332/data/train_neg_labels.txt.gz\n",
            "Resolving raw.githubusercontent.com (raw.githubusercontent.com)... 151.101.0.133, 151.101.64.133, 151.101.128.133, ...\n",
            "Connecting to raw.githubusercontent.com (raw.githubusercontent.com)|151.101.0.133|:443... connected.\n",
            "HTTP request sent, awaiting response... 200 OK\n",
            "Length: 523531 (511K) [application/octet-stream]\n",
            "Saving to: ‘train_labels.txt.gz’\n",
            "\n",
            "train_labels.txt.gz 100%[===================>] 511.26K  --.-KB/s    in 0.08s   \n",
            "\n",
            "2020-08-27 17:29:33 (5.99 MB/s) - ‘train_labels.txt.gz’ saved [523531/523531]\n",
            "\n",
            "--2020-08-27 17:29:33--  https://raw.githubusercontent.com/kundajelab/feature_interactions/8f97332/data/train_simulation.simdata.gz\n",
            "Resolving raw.githubusercontent.com (raw.githubusercontent.com)... 151.101.0.133, 151.101.64.133, 151.101.128.133, ...\n",
            "Connecting to raw.githubusercontent.com (raw.githubusercontent.com)|151.101.0.133|:443... connected.\n",
            "HTTP request sent, awaiting response... 200 OK\n",
            "Length: 2104123 (2.0M) [application/octet-stream]\n",
            "Saving to: ‘train_simulation.simdata.gz’\n",
            "\n",
            "train_simulation.si 100%[===================>]   2.01M  9.40MB/s    in 0.2s    \n",
            "\n",
            "2020-08-27 17:29:34 (9.40 MB/s) - ‘train_simulation.simdata.gz’ saved [2104123/2104123]\n",
            "\n",
            "--2020-08-27 17:29:34--  https://raw.githubusercontent.com/kundajelab/feature_interactions/8f97332/data/test_neg_labels.txt.gz\n",
            "Resolving raw.githubusercontent.com (raw.githubusercontent.com)... 151.101.0.133, 151.101.64.133, 151.101.128.133, ...\n",
            "Connecting to raw.githubusercontent.com (raw.githubusercontent.com)|151.101.0.133|:443... connected.\n",
            "HTTP request sent, awaiting response... 200 OK\n",
            "Length: 523456 (511K) [application/octet-stream]\n",
            "Saving to: ‘test_labels.txt.gz’\n",
            "\n",
            "test_labels.txt.gz  100%[===================>] 511.19K  --.-KB/s    in 0.07s   \n",
            "\n",
            "2020-08-27 17:29:34 (7.41 MB/s) - ‘test_labels.txt.gz’ saved [523456/523456]\n",
            "\n",
            "--2020-08-27 17:29:34--  https://raw.githubusercontent.com/kundajelab/feature_interactions/8f97332/data/test_simulation.simdata.gz\n",
            "Resolving raw.githubusercontent.com (raw.githubusercontent.com)... 151.101.0.133, 151.101.64.133, 151.101.128.133, ...\n",
            "Connecting to raw.githubusercontent.com (raw.githubusercontent.com)|151.101.0.133|:443... connected.\n",
            "HTTP request sent, awaiting response... 200 OK\n",
            "Length: 2103069 (2.0M) [application/octet-stream]\n",
            "Saving to: ‘test_simulation.simdata.gz’\n",
            "\n",
            "test_simulation.sim 100%[===================>]   2.00M  9.27MB/s    in 0.2s    \n",
            "\n",
            "2020-08-27 17:29:35 (9.27 MB/s) - ‘test_simulation.simdata.gz’ saved [2103069/2103069]\n",
            "\n"
          ],
          "name": "stdout"
        }
      ]
    },
    {
      "cell_type": "code",
      "metadata": {
        "id": "Q5YqpeGCAkuk",
        "colab_type": "code",
        "colab": {}
      },
      "source": [
        "!gunzip -f *.gz"
      ],
      "execution_count": null,
      "outputs": []
    },
    {
      "cell_type": "code",
      "metadata": {
        "id": "DDpoUC-u9xQh",
        "colab_type": "code",
        "colab": {}
      },
      "source": [
        "def simdata_to_fasta(simdata_file, fa_file):\n",
        "  with open(fa_file, 'w') as outf:\n",
        "    for i, line in enumerate(open(simdata_file)):\n",
        "      if i > 0:\n",
        "        id, seq, _, _, _, _ = line.rstrip().split(\"\\t\")\n",
        "        outf.write(\">\"+id+\"\\n\")\n",
        "        outf.write(seq+\"\\n\")\n",
        "  outf.close()\n",
        "\n",
        "#prepare the fasta files for training/prediction\n",
        "simdata_to_fasta(\"train_simulation.simdata\", \"train_simulation.fa\")\n",
        "simdata_to_fasta(\"test_simulation.simdata\", \"test_simulation.fa\")\n",
        "\n",
        "#For speed, only train on 5000 regions and test on 1000\n",
        "!head -10000 train_simulation.fa > trimmed_train_simulation.fa\n",
        "!head -2000 test_simulation.fa > trimmed_test_simulation.fa\n",
        "\n",
        "#My label file had two columns - one for the label without noise and\n",
        "# the other for the label with noise. I'll take the label with noise\n",
        "# for training purposes.\n",
        "#Also take the square root as that is a variance stabilizing transform for counts.\n",
        "!perl -lane 'print sqrt($F[1])' train_labels.txt | head -5000 > nonoise_train_labels.txt\n",
        "!perl -lane 'print sqrt($F[1])' test_labels.txt | head -1000 > nonoise_test_labels.txt"
      ],
      "execution_count": null,
      "outputs": []
    },
    {
      "cell_type": "code",
      "metadata": {
        "id": "4GXGL1vB-nHq",
        "colab_type": "code",
        "colab": {
          "base_uri": "https://localhost:8080/",
          "height": 178
        },
        "outputId": "7d5e6c8b-ea8b-4e7d-be2d-eaab25b033cf"
      },
      "source": [
        "#View labels file as a sanity check\n",
        "!head nonoise_train_labels.txt"
      ],
      "execution_count": null,
      "outputs": [
        {
          "output_type": "stream",
          "text": [
            "1.98888698355797\n",
            "0.933996430516065\n",
            "12.8789085363317\n",
            "9.10575581881588\n",
            "10.1229327709908\n",
            "10.6211808979363\n",
            "0.500560698879818\n",
            "10.6358666611701\n",
            "15.3549273800663\n",
            "10.9921140650608\n"
          ],
          "name": "stdout"
        }
      ]
    },
    {
      "cell_type": "code",
      "metadata": {
        "id": "9XWMy8vU-fx8",
        "colab_type": "code",
        "colab": {
          "base_uri": "https://localhost:8080/",
          "height": 1000
        },
        "outputId": "eaa944d8-dd5f-4f79-fcf6-07bde6b9622d"
      },
      "source": [
        "#train the regression model\n",
        "#-y 3 selects regression (default of -y 0 does classification)\n",
        "#-t controls the choice of kernel. -t 2 (instead of the default of 4)\n",
        "# avoids upweighting the central positions.\n",
        "#The parameter -p controls the “epsilon” used in the support vector\n",
        "# regression objective (i.e. the tolerated margin of error).\n",
        "# HEADS UP: don’t confuse this with the -e parameter, which determines\n",
        "# the epsilon used for the convergence criterion (they are both\n",
        "# called ‘epsilon’, sigh).\n",
        "#Depending on the problem, the -c parameter (controlling the cost of\n",
        "# misprediction) will likely have to be adjusted, i.e. the defaults may\n",
        "# not work out-of-the-box.\n",
        "!rlsgkm/bin/gkmtrain -T 16 -y 3 -t 2 -c 10 -p 0.3 trimmed_train_simulation.fa nonoise_train_labels.txt regression"
      ],
      "execution_count": null,
      "outputs": [
        {
          "output_type": "stream",
          "text": [
            "INFO 2020-08-27 17:33:53: Number of threads is set to 16\n",
            "INFO 2020-08-27 17:33:53: Arguments:\n",
            "INFO 2020-08-27 17:33:53:   file1 = trimmed_train_simulation.fa\n",
            "INFO 2020-08-27 17:33:53:   file2 = nonoise_train_labels.txt\n",
            "INFO 2020-08-27 17:33:53:   outprefix = regression\n",
            "INFO 2020-08-27 17:33:53: Parameters:\n",
            "INFO 2020-08-27 17:33:53:   svm-type = 3\n",
            "INFO 2020-08-27 17:33:53:   kernel-type = 2\n",
            "INFO 2020-08-27 17:33:53:   L = 11\n",
            "INFO 2020-08-27 17:33:53:   k = 7\n",
            "INFO 2020-08-27 17:33:53:   d = 3\n",
            "INFO 2020-08-27 17:33:53:   C = 10\n",
            "INFO 2020-08-27 17:33:53:   eps (convergence) = 0.001\n",
            "INFO 2020-08-27 17:33:53:   p (SVR epsilon) = 0.3\n",
            "INFO 2020-08-27 17:33:53:   shrinking = no\n",
            "INFO 2020-08-27 17:33:53: reading... 0\n",
            "INFO 2020-08-27 17:33:54: reading... 1000\n",
            "INFO 2020-08-27 17:33:54: reading... 2000\n",
            "INFO 2020-08-27 17:33:55: reading... 3000\n",
            "INFO 2020-08-27 17:33:55: reading... 4000\n",
            "INFO 2020-08-27 17:33:56: reading... done\n",
            "INFO 2020-08-27 17:33:56: reading labels\n",
            "INFO 2020-08-27 17:33:56: done reading labels\n",
            "INFO 2020-08-27 17:33:56: begin SVM training\n",
            "INFO 2020-08-27 17:34:02: iter 100, max_viol=14.3269\n",
            "INFO 2020-08-27 17:34:08: iter 200, max_viol=11.9949\n",
            "INFO 2020-08-27 17:34:14: iter 300, max_viol=10.5148\n",
            "INFO 2020-08-27 17:34:20: iter 400, max_viol=9.13525\n",
            "INFO 2020-08-27 17:34:26: iter 500, max_viol=8.10645\n",
            "INFO 2020-08-27 17:34:32: iter 600, max_viol=7.11067\n",
            "INFO 2020-08-27 17:34:37: iter 700, max_viol=6.08388\n",
            "INFO 2020-08-27 17:34:42: iter 800, max_viol=5.38683\n",
            "INFO 2020-08-27 17:34:47: iter 900, max_viol=4.716\n",
            "INFO 2020-08-27 17:34:52: iter 1000, max_viol=4.15572\n",
            "INFO 2020-08-27 17:34:57: iter 1100, max_viol=3.76844\n",
            "INFO 2020-08-27 17:35:02: iter 1200, max_viol=3.38936\n",
            "INFO 2020-08-27 17:35:07: iter 1300, max_viol=3.02975\n",
            "INFO 2020-08-27 17:35:11: iter 1400, max_viol=2.76002\n",
            "INFO 2020-08-27 17:35:15: iter 1500, max_viol=2.51206\n",
            "INFO 2020-08-27 17:35:19: iter 1600, max_viol=2.30074\n",
            "INFO 2020-08-27 17:35:24: iter 1700, max_viol=2.10429\n",
            "INFO 2020-08-27 17:35:27: iter 1800, max_viol=1.89674\n",
            "INFO 2020-08-27 17:35:31: iter 1900, max_viol=1.71935\n",
            "INFO 2020-08-27 17:35:35: iter 2000, max_viol=1.55438\n",
            "INFO 2020-08-27 17:35:39: iter 2100, max_viol=1.37164\n",
            "INFO 2020-08-27 17:35:43: iter 2200, max_viol=1.23414\n",
            "INFO 2020-08-27 17:35:46: iter 2300, max_viol=1.10235\n",
            "INFO 2020-08-27 17:35:49: iter 2400, max_viol=0.95942\n",
            "INFO 2020-08-27 17:35:52: iter 2500, max_viol=0.857674\n",
            "INFO 2020-08-27 17:35:53: iter 2600, max_viol=0.754153\n",
            "INFO 2020-08-27 17:35:55: iter 2700, max_viol=0.678845\n",
            "INFO 2020-08-27 17:35:57: iter 2800, max_viol=0.605064\n",
            "INFO 2020-08-27 17:35:58: iter 2900, max_viol=0.538298\n",
            "INFO 2020-08-27 17:36:00: iter 3000, max_viol=0.477955\n",
            "INFO 2020-08-27 17:36:01: iter 3100, max_viol=0.420943\n",
            "INFO 2020-08-27 17:36:02: iter 3200, max_viol=0.375955\n",
            "INFO 2020-08-27 17:36:04: iter 3300, max_viol=0.335442\n",
            "INFO 2020-08-27 17:36:04: iter 3400, max_viol=0.290805\n",
            "INFO 2020-08-27 17:36:05: iter 3500, max_viol=0.2577\n",
            "INFO 2020-08-27 17:36:06: iter 3600, max_viol=0.228944\n",
            "INFO 2020-08-27 17:36:07: iter 3700, max_viol=0.207811\n",
            "INFO 2020-08-27 17:36:08: iter 3800, max_viol=0.186701\n",
            "INFO 2020-08-27 17:36:08: iter 3900, max_viol=0.17\n",
            "INFO 2020-08-27 17:36:09: iter 4000, max_viol=0.15343\n",
            "INFO 2020-08-27 17:36:09: iter 4100, max_viol=0.135315\n",
            "INFO 2020-08-27 17:36:09: iter 4200, max_viol=0.118955\n",
            "INFO 2020-08-27 17:36:10: iter 4300, max_viol=0.104903\n",
            "INFO 2020-08-27 17:36:10: iter 4400, max_viol=0.0948706\n",
            "INFO 2020-08-27 17:36:10: iter 4500, max_viol=0.0858757\n",
            "INFO 2020-08-27 17:36:11: iter 4600, max_viol=0.0755944\n",
            "INFO 2020-08-27 17:36:11: iter 4700, max_viol=0.0682825\n",
            "INFO 2020-08-27 17:36:11: iter 4800, max_viol=0.0611468\n",
            "INFO 2020-08-27 17:36:11: iter 4900, max_viol=0.0549893\n",
            "INFO 2020-08-27 17:36:11: iter 5000, max_viol=0.049295\n",
            "INFO 2020-08-27 17:36:12: iter 5100, max_viol=0.0445962\n",
            "INFO 2020-08-27 17:36:12: iter 5200, max_viol=0.0394657\n",
            "INFO 2020-08-27 17:36:12: iter 5300, max_viol=0.0348401\n",
            "INFO 2020-08-27 17:36:12: iter 5400, max_viol=0.0312061\n",
            "INFO 2020-08-27 17:36:12: iter 5500, max_viol=0.0277987\n",
            "INFO 2020-08-27 17:36:12: iter 5600, max_viol=0.0248114\n",
            "INFO 2020-08-27 17:36:12: iter 5700, max_viol=0.0219766\n",
            "INFO 2020-08-27 17:36:12: iter 5800, max_viol=0.0198368\n",
            "INFO 2020-08-27 17:36:12: iter 5900, max_viol=0.0177699\n",
            "INFO 2020-08-27 17:36:12: iter 6000, max_viol=0.0157101\n",
            "INFO 2020-08-27 17:36:13: iter 6100, max_viol=0.0143245\n",
            "INFO 2020-08-27 17:36:13: iter 6200, max_viol=0.0127167\n",
            "INFO 2020-08-27 17:36:13: iter 6300, max_viol=0.0111699\n",
            "INFO 2020-08-27 17:36:13: iter 6400, max_viol=0.00992345\n",
            "INFO 2020-08-27 17:36:13: iter 6500, max_viol=0.00869422\n",
            "INFO 2020-08-27 17:36:13: iter 6600, max_viol=0.00779451\n",
            "INFO 2020-08-27 17:36:13: iter 6700, max_viol=0.00700865\n",
            "INFO 2020-08-27 17:36:13: iter 6800, max_viol=0.00620499\n",
            "INFO 2020-08-27 17:36:13: iter 6900, max_viol=0.00557242\n",
            "INFO 2020-08-27 17:36:13: iter 7000, max_viol=0.00499789\n",
            "INFO 2020-08-27 17:36:13: iter 7100, max_viol=0.00450733\n",
            "INFO 2020-08-27 17:36:13: iter 7200, max_viol=0.00406984\n",
            "INFO 2020-08-27 17:36:13: iter 7300, max_viol=0.00365922\n",
            "INFO 2020-08-27 17:36:13: iter 7400, max_viol=0.00331134\n",
            "INFO 2020-08-27 17:36:13: iter 7500, max_viol=0.00290333\n",
            "INFO 2020-08-27 17:36:13: iter 7600, max_viol=0.00260945\n",
            "INFO 2020-08-27 17:36:13: iter 7700, max_viol=0.00226845\n",
            "INFO 2020-08-27 17:36:13: iter 7800, max_viol=0.00199972\n",
            "INFO 2020-08-27 17:36:13: iter 7900, max_viol=0.00180059\n",
            "INFO 2020-08-27 17:36:13: iter 8000, max_viol=0.00160392\n",
            "INFO 2020-08-27 17:36:13: iter 8100, max_viol=0.00146022\n",
            "INFO 2020-08-27 17:36:13: iter 8200, max_viol=0.00130346\n",
            "INFO 2020-08-27 17:36:13: iter 8300, max_viol=0.0011734\n",
            "INFO 2020-08-27 17:36:13: iter 8400, max_viol=0.0010465\n",
            "INFO 2020-08-27 17:36:13: *\n",
            "INFO 2020-08-27 17:36:13: optimization finished, #iter = 8436\n",
            "INFO 2020-08-27 17:36:13: nu = 0.204275\n",
            "INFO 2020-08-27 17:36:13: obj = -25259.933146, rho = -7.351190\n",
            "INFO 2020-08-27 17:36:13: nSV = 4497, nBSV = 2\n",
            "INFO 2020-08-27 17:36:13: save SVM model to regression.model.txt\n"
          ],
          "name": "stdout"
        }
      ]
    },
    {
      "cell_type": "code",
      "metadata": {
        "id": "GicvKnphAx7k",
        "colab_type": "code",
        "colab": {
          "base_uri": "https://localhost:8080/",
          "height": 290
        },
        "outputId": "aaed48fc-26fd-4bf8-9f74-ede9d2902079"
      },
      "source": [
        "#make predictions on the test set\n",
        "!rlsgkm/bin/gkmpredict -T 16 trimmed_test_simulation.fa regression.model.txt regression_test_preds.txt"
      ],
      "execution_count": null,
      "outputs": [
        {
          "output_type": "stream",
          "text": [
            "INFO 2020-08-27 17:36:15: Number of threads is set to 16\n",
            "INFO 2020-08-27 17:36:15: load model regression.model.txt\n",
            "INFO 2020-08-27 17:36:15: reading... 1000/4497\n",
            "INFO 2020-08-27 17:36:16: reading... 2000/4497\n",
            "INFO 2020-08-27 17:36:16: reading... 3000/4497\n",
            "INFO 2020-08-27 17:36:17: reading... 4000/4497\n",
            "INFO 2020-08-27 17:36:17: write prediction result to regression_test_preds.txt\n",
            "INFO 2020-08-27 17:36:20: 100 scored\n",
            "INFO 2020-08-27 17:36:23: 200 scored\n",
            "INFO 2020-08-27 17:36:27: 300 scored\n",
            "INFO 2020-08-27 17:36:30: 400 scored\n",
            "INFO 2020-08-27 17:36:33: 500 scored\n",
            "INFO 2020-08-27 17:36:36: 600 scored\n",
            "INFO 2020-08-27 17:36:39: 700 scored\n",
            "INFO 2020-08-27 17:36:42: 800 scored\n",
            "INFO 2020-08-27 17:36:45: 900 scored\n",
            "INFO 2020-08-27 17:36:49: 1000 scored\n"
          ],
          "name": "stdout"
        }
      ]
    },
    {
      "cell_type": "code",
      "metadata": {
        "id": "7_qkSV0fk6Mz",
        "colab_type": "code",
        "colab": {
          "base_uri": "https://localhost:8080/",
          "height": 280
        },
        "outputId": "d8432224-3672-417f-bbbf-8a77186b8d5f"
      },
      "source": [
        "#plot the labels vs preds.\n",
        "import numpy as np\n",
        "from matplotlib import pyplot as plt\n",
        "\n",
        "preds = np.array([float(x.rstrip().split(\"\\t\")[-1])\n",
        "                  for x in open(\"regression_test_preds.txt\")])\n",
        "labels = np.array([float(x.rstrip().split(\"\\t\")[-1])\n",
        "                  for x in open(\"nonoise_test_labels.txt\")])\n",
        "\n",
        "plt.scatter(preds, labels)\n",
        "plt.plot(preds, preds, color=\"black\")\n",
        "plt.xlabel(\"predictions\")\n",
        "plt.ylabel(\"labels\")\n",
        "plt.show()"
      ],
      "execution_count": null,
      "outputs": [
        {
          "output_type": "display_data",
          "data": {
            "image/png": "[encoded data removed]",
            "text/plain": [
              "<Figure size 432x288 with 1 Axes>"
            ]
          },
          "metadata": {
            "tags": [],
            "needs_background": "light"
          }
        }
      ]
    },
    {
      "cell_type": "code",
      "metadata": {
        "id": "kcqWVb8Uz9Jl",
        "colab_type": "code",
        "colab": {
          "base_uri": "https://localhost:8080/",
          "height": 146
        },
        "outputId": "cbebb823-e429-45d4-e1cf-136c2fe539e8"
      },
      "source": [
        "#Compute gkmexplain importance scores on a handful of regions\n",
        "!head -20 trimmed_test_simulation.fa > toexplain_test_simulation.fa\n",
        "!rlsgkm/bin/gkmexplain toexplain_test_simulation.fa regression.model.txt imp_toexplain_test_simulation.txt"
      ],
      "execution_count": null,
      "outputs": [
        {
          "output_type": "stream",
          "text": [
            "INFO 2020-08-27 17:37:03: Number of threads is set to 1\n",
            "INFO 2020-08-27 17:37:03: load model regression.model.txt\n",
            "INFO 2020-08-27 17:37:03: reading... 1000/4497\n",
            "INFO 2020-08-27 17:37:03: reading... 2000/4497\n",
            "INFO 2020-08-27 17:37:03: reading... 3000/4497\n",
            "INFO 2020-08-27 17:37:03: reading... 4000/4497\n",
            "INFO 2020-08-27 17:37:04: write prediction result to imp_toexplain_test_simulation.txt\n",
            "INFO 2020-08-27 17:37:05: 10 scored\n"
          ],
          "name": "stdout"
        }
      ]
    },
    {
      "cell_type": "code",
      "metadata": {
        "id": "OJlreJX9sj94",
        "colab_type": "code",
        "colab": {}
      },
      "source": [
        "#read in the importance scores\n",
        "impscores = [\n",
        "    np.array( [[float(z) for z in y.split(\",\")] for y in x.rstrip().split(\"\\t\")[2].split(\";\")])\n",
        "    for x in open(\"imp_toexplain_test_simulation.txt\")\n",
        "]"
      ],
      "execution_count": null,
      "outputs": []
    },
    {
      "cell_type": "code",
      "metadata": {
        "id": "k1591jGt0PJ3",
        "colab_type": "code",
        "colab": {
          "base_uri": "https://localhost:8080/",
          "height": 274
        },
        "outputId": "6a2c0f9d-f523-47b6-e757-9771a6d371a2"
      },
      "source": [
        "!pip install vizsequence"
      ],
      "execution_count": null,
      "outputs": [
        {
          "output_type": "stream",
          "text": [
            "Collecting vizsequence\n",
            "  Downloading https://files.pythonhosted.org/packages/a6/10/b3b210eba27de588fba3c261b80317413e18ac3e371df9578b3cdc61096c/vizsequence-0.1.1.0.tar.gz\n",
            "Requirement already satisfied: numpy>=1.9 in /usr/local/lib/python3.6/dist-packages (from vizsequence) (1.18.5)\n",
            "Requirement already satisfied: matplotlib>=2.2.2 in /usr/local/lib/python3.6/dist-packages (from vizsequence) (3.2.2)\n",
            "Requirement already satisfied: pyparsing!=2.0.4,!=2.1.2,!=2.1.6,>=2.0.1 in /usr/local/lib/python3.6/dist-packages (from matplotlib>=2.2.2->vizsequence) (2.4.7)\n",
            "Requirement already satisfied: cycler>=0.10 in /usr/local/lib/python3.6/dist-packages (from matplotlib>=2.2.2->vizsequence) (0.10.0)\n",
            "Requirement already satisfied: python-dateutil>=2.1 in /usr/local/lib/python3.6/dist-packages (from matplotlib>=2.2.2->vizsequence) (2.8.1)\n",
            "Requirement already satisfied: kiwisolver>=1.0.1 in /usr/local/lib/python3.6/dist-packages (from matplotlib>=2.2.2->vizsequence) (1.2.0)\n",
            "Requirement already satisfied: six in /usr/local/lib/python3.6/dist-packages (from cycler>=0.10->matplotlib>=2.2.2->vizsequence) (1.15.0)\n",
            "Building wheels for collected packages: vizsequence\n",
            "  Building wheel for vizsequence (setup.py) ... \u001b[?25l\u001b[?25hdone\n",
            "  Created wheel for vizsequence: filename=vizsequence-0.1.1.0-cp36-none-any.whl size=3269 sha256=e1fce924c54b45ebd62b1069bbaa154191bf8354614d0214d83adf005a8d9b6e\n",
            "  Stored in directory: /root/.cache/pip/wheels/08/eb/de/6b398b439ba39c278e5c341bdeed57d66280910e096496eaef\n",
            "Successfully built vizsequence\n",
            "Installing collected packages: vizsequence\n",
            "Successfully installed vizsequence-0.1.1.0\n"
          ],
          "name": "stdout"
        }
      ]
    },
    {
      "cell_type": "code",
      "metadata": {
        "id": "ZPaIw8BV0wAM",
        "colab_type": "code",
        "colab": {
          "base_uri": "https://localhost:8080/",
          "height": 300
        },
        "outputId": "2b87951a-ca15-4d5d-8a22-b02c9e1b9a12"
      },
      "source": [
        "#visualize importance scores on a couple of sequences, as a sanity check\n",
        "import vizsequence\n",
        "vizsequence.viz_sequence.plot_weights(impscores[2])\n",
        "vizsequence.viz_sequence.plot_weights(impscores[3])"
      ],
      "execution_count": null,
      "outputs": [
        {
          "output_type": "display_data",
          "data": {
            "image/png": "[encoded data removed]",
            "text/plain": [
              "<Figure size 1440x144 with 1 Axes>"
            ]
          },
          "metadata": {
            "tags": [],
            "needs_background": "light"
          }
        },
        {
          "output_type": "display_data",
          "data": {
            "image/png": "[encoded data removed]",
            "text/plain": [
              "<Figure size 1440x144 with 1 Axes>"
            ]
          },
          "metadata": {
            "tags": [],
            "needs_background": "light"
          }
        }
      ]
    },
    {
      "cell_type": "code",
      "metadata": {
        "id": "Y8VoXbuq1FC5",
        "colab_type": "code",
        "colab": {}
      },
      "source": [
        ""
      ],
      "execution_count": null,
      "outputs": []
    }
  ]
}